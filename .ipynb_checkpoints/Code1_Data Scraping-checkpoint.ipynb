{
 "cells": [
  {
   "cell_type": "markdown",
   "id": "c9be20eb",
   "metadata": {},
   "source": [
    "# Main function of this code:\n",
    "\n",
    "### 1. Scrape all reviews(in total 10777 piecies, this mumber might increase as time goes by) of the movie \"The Shawnshank Redemption\" from IMDb website and write them into a csv file(can be found in the file). Due to the loss of data, the actual number of reviews scraped is 10754 which is considerd enough for the later analysis. \n",
    "\n",
    "### 2. Scraped data includes: \n",
    "* review title, \n",
    "* spoiler warning tag, \n",
    "* content,\n",
    "* rate(how many stars each review gives to the movie) , \n",
    "* vote(how many people vote for each review), \n",
    "* and date(year)."
   ]
  },
  {
   "cell_type": "code",
   "execution_count": 1,
   "id": "a5ddd695",
   "metadata": {},
   "outputs": [],
   "source": [
    "# import pakages\n",
    "from selenium import webdriver\n",
    "from selenium.webdriver.common.by import By\n",
    "from selenium.webdriver.common.action_chains import ActionChains\n",
    "import time\n",
    "from selenium.common import NoSuchElementException\n",
    "import csv"
   ]
  },
  {
   "cell_type": "markdown",
   "id": "2df041ca",
   "metadata": {},
   "source": [
    "# Part 1 Load all reviews\n",
    "\n",
    "### Load reviews by scrolling to the bottom and clicking the \"Load More\" button on the user review page."
   ]
  },
  {
   "cell_type": "markdown",
   "id": "a2d2c871",
   "metadata": {},
   "source": [
    "### !!! Warning: The Shawshank Redemption has more than 10000 reviews), it may take around 40 minutes to run this code. To save time, you may consider the other two test cases: \n",
    "*https://www.imdb.com/title/tt6718170/reviews/?ref_=tt_ov_rt  (around 671 reviews)\n",
    "*https://www.imdb.com/title/tt14403178/reviews/?ref_=tt_ov_rt  (around 218 reviews)\n",
    "*https://www.imdb.com/title/tt0111161/reviews?ref_=tt_urv  (our user case-Shawshank Redemption: 10777 reviews)"
   ]
  },
  {
   "cell_type": "code",
   "execution_count": 2,
   "id": "65ea462d",
   "metadata": {},
   "outputs": [
    {
     "name": "stdout",
     "output_type": "stream",
     "text": [
      "Loading all reviews, please wait ...\n",
      "Encountered an exception: Message: Origin element is not displayed\n",
      "Stacktrace:\n",
      "RemoteError@chrome://remote/content/shared/RemoteError.sys.mjs:8:8\n",
      "WebDriverError@chrome://remote/content/shared/webdriver/Errors.sys.mjs:182:5\n",
      "MoveTargetOutOfBoundsError@chrome://remote/content/shared/webdriver/Errors.sys.mjs:372:5\n",
      "getOriginCoordinates@chrome://remote/content/marionette/action.sys.mjs:486:15\n",
      "getTargetCoordinates@chrome://remote/content/marionette/action.sys.mjs:430:25\n",
      "dispatch@chrome://remote/content/marionette/action.sys.mjs:1004:32\n",
      "dispatch/pendingEvents<@chrome://remote/content/marionette/action.sys.mjs:1827:14\n",
      "dispatch@chrome://remote/content/marionette/action.sys.mjs:1826:39\n",
      "dispatch/chainEvents<@chrome://remote/content/marionette/action.sys.mjs:1753:27\n",
      "dispatch@chrome://remote/content/marionette/action.sys.mjs:1755:7\n",
      "performActions@chrome://remote/content/marionette/actors/MarionetteCommandsChild.sys.mjs:472:23\n",
      "receiveMessage@chrome://remote/content/marionette/actors/MarionetteCommandsChild.sys.mjs:139:31\n",
      "\n",
      "All reviews loaded successfully!\n",
      "The total amount of reviews is 10773\n"
     ]
    }
   ],
   "source": [
    "# open the url using webdriver\n",
    "driver = webdriver.Firefox()\n",
    "driver.get(\"https://www.imdb.com/title/tt0111161/reviews?ref_=tt_urv\")\n",
    "print(\"Loading all reviews, please wait ...\")\n",
    "\n",
    "# funtion: scroll to the bottom of one page\n",
    "def scroll_to_bottom():\n",
    "    driver.execute_script(\"window.scrollTo(0, document.body.scrollHeight);\")\n",
    "\n",
    "# Whlie loop: scroll to the bottom of each page and click \"Load More\" button until the there is no more buttons\n",
    "while True:  \n",
    "    try:\n",
    "        if 'firefox' in driver.capabilities['browserName']:  # Check if browser name is Firefox\n",
    "            scroll_to_bottom()  # Call a function to scroll the page to the bottom\n",
    "\n",
    "        load_more = driver.find_element(By.ID, \"load-more-trigger\")  # Find the \"Load More\" element by ID\n",
    "        actions = ActionChains(driver)  # Create an instance of ActionChains to perform actions on the webpage\n",
    "        actions.move_to_element(load_more)  # Move the mouse cursor to the \"Load More\" element\n",
    "        actions.click()  # Click the \"Load More\" element\n",
    "        actions.perform()  # Perform the actions (move and click)\n",
    "        time.sleep(6)  # Pause the script for 3 seconds for page to load\n",
    "\n",
    "    except Exception as e:  # Catch any exceptions\n",
    "        print(\"Encountered an exception: \" + str(e))  # Print the exception message\n",
    "        break  # Exit the loop, stop the script\n",
    "\n",
    "\n",
    "print(\"All reviews loaded successfully!\")\n",
    "time.sleep(15)\n",
    "\n",
    "# Find all elements with class name \"lister-item-content\" to get all reviews\n",
    "all_reviews = driver.find_elements(By.CLASS_NAME, \"lister-item-content\")\n",
    "\n",
    "# Print the total amount of reviews found\n",
    "print(f\"The total amount of reviews is {len(all_reviews)}\")\n",
    "\n",
    "# Pause the script for 10 seconds to allow the page to fully load\n",
    "time.sleep(15)"
   ]
  },
  {
   "cell_type": "markdown",
   "id": "c6dc563f",
   "metadata": {},
   "source": [
    "# Part 2 Get all tags and write them into csv file\n",
    "\n",
    "### We have load all the data, now we start to extract the specified elements from the page."
   ]
  },
  {
   "cell_type": "code",
   "execution_count": 3,
   "id": "b3cd5d2e",
   "metadata": {},
   "outputs": [
    {
     "name": "stdout",
     "output_type": "stream",
     "text": [
      "Writing all of the reviews to a CSV file...\n",
      "Finished!\n"
     ]
    }
   ],
   "source": [
    "# Print a message indicating that writing reviews to a CSV file is starting\n",
    "print(\"Writing all of the reviews to a CSV file...\")\n",
    "\n",
    "# Open a CSV file in write mode with UTF-8 encoding and no newlines\n",
    "with open('full_reviews.csv', mode='w', encoding='utf-8', newline='') as file:\n",
    "    # Create a CSV writer object\n",
    "    writer = csv.writer(file)\n",
    "\n",
    "    # Write the header row to the CSV file\n",
    "    writer.writerow(['title', 'warning', 'rate', 'content', 'vote', 'year'])\n",
    "\n",
    "    # Loop through each comment element and extract relevant information\n",
    "    for review in all_reviews:\n",
    "        \"\"\"2.1 get warning tag for each review\"\"\"\n",
    "        # Check if the comment has a \"spoiler-warning\" class, indicating a warning tag\n",
    "        warning = False\n",
    "        try:\n",
    "            review.find_element(By.CLASS_NAME, \"spoiler-warning\")\n",
    "            warning = True\n",
    "        except NoSuchElementException:\n",
    "            pass\n",
    "\n",
    "        # Some long comments are shrinking, we need to click the expand button to make it expanded,\n",
    "        # so we can extract the comment.\n",
    "        try:\n",
    "            review.find_element(By.CLASS_NAME, \"ipl-expander\").click()\n",
    "        except NoSuchElementException:\n",
    "            pass\n",
    "\n",
    "        \"\"\"2.2 get title for each review\"\"\"\n",
    "        # Extract the title of the comment from the \"title\" class element\n",
    "        title = review.find_element(By.CLASS_NAME, \"title\").text\n",
    "\n",
    "        \"\"\"2.3 get content for each review\"\"\"\n",
    "        # Extract the content of the comment from the \"content\" class element\n",
    "        content = review.find_element(By.CLASS_NAME, \"content\").find_element(By.TAG_NAME, \"div\").text\n",
    "        \n",
    "        \"\"\"2.4 get rate for each review\"\"\"\n",
    "        # Extract the rate of the comment from the \"rating-other-user-rating\" class element\n",
    "        rate = -1\n",
    "        try:\n",
    "            rate = review.find_element(By.CLASS_NAME, \"rating-other-user-rating\").find_element(By.TAG_NAME,\n",
    "                                                                                                \"span\").text\n",
    "        except NoSuchElementException:\n",
    "            pass\n",
    "\n",
    "        \"\"\"2.5 get date for each review\"\"\"\n",
    "        # Extract the year from the \"review-date\" class element\n",
    "        year = review.find_element(By.CLASS_NAME, \"review-date\").text.split(\" \", 2)[2]\n",
    "\n",
    "        \"\"\"2.6 get vote for each review\"\"\"\n",
    "        # Extract the vote count from the \"actions.text-muted\" class element\n",
    "        vote = -1\n",
    "        try:\n",
    "            vote = review.find_element(By.CLASS_NAME, \"actions.text-muted\").text.split()[0]\n",
    "        except NoSuchElementException:\n",
    "            pass\n",
    "\n",
    "        # Write the extracted information as a row to the CSV file\n",
    "        writer.writerow([title, warning, rate, content, vote, year])\n",
    "\n",
    "# Print a message indicating that writing comments to the CSV file is finished\n",
    "print(\"Finished!\")"
   ]
  },
  {
   "cell_type": "code",
   "execution_count": null,
   "id": "fd9bcccb",
   "metadata": {},
   "outputs": [],
   "source": []
  }
 ],
 "metadata": {
  "kernelspec": {
   "display_name": "Python 3 (ipykernel)",
   "language": "python",
   "name": "python3"
  },
  "language_info": {
   "codemirror_mode": {
    "name": "ipython",
    "version": 3
   },
   "file_extension": ".py",
   "mimetype": "text/x-python",
   "name": "python",
   "nbconvert_exporter": "python",
   "pygments_lexer": "ipython3",
   "version": "3.9.13"
  }
 },
 "nbformat": 4,
 "nbformat_minor": 5
}
